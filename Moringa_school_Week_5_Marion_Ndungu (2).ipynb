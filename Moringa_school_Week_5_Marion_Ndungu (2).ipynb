{
  "nbformat": 4,
  "nbformat_minor": 0,
  "metadata": {
    "colab": {
      "name": "Moringa school Week 5 Marion Ndungu.ipynb",
      "provenance": [],
      "collapsed_sections": []
    },
    "kernelspec": {
      "name": "python3",
      "display_name": "Python 3"
    }
  },
  "cells": [
    {
      "cell_type": "markdown",
      "metadata": {
        "id": "nmiwE8L_oDjX",
        "colab_type": "text"
      },
      "source": [
        "# Exploratory Data analysis"
      ]
    },
    {
      "cell_type": "markdown",
      "metadata": {
        "id": "t3GMJFlKoGxz",
        "colab_type": "text"
      },
      "source": [
        "**Defining The Question**\n"
      ]
    },
    {
      "cell_type": "markdown",
      "metadata": {
        "id": "WHc5hr9Tfosp",
        "colab_type": "text"
      },
      "source": [
        "we have been tasked to understand electric car usage of the Autolib electric car-sharing service company to investigate a claim about the blue cars from the provided Autolib dataset."
      ]
    },
    {
      "cell_type": "markdown",
      "metadata": {
        "id": "E1x_3hJhgEqI",
        "colab_type": "text"
      },
      "source": [
        "**Specifying  the question**\n",
        "\n",
        "The claim is that the choosen postal codes differences of blue cars in mean is 0 "
      ]
    },
    {
      "cell_type": "markdown",
      "metadata": {
        "id": "9HfYd9v9gtdF",
        "colab_type": "text"
      },
      "source": [
        "**Metrics of success**\n",
        "\n",
        "b) Defining the Metric for Success\n",
        "\n",
        "Introduce the data you will be describing and the random variable that you are investigating.\n",
        "\n",
        "State the null and alternate hypothesis that you will be testing.\n",
        "\n",
        "Provide some explanation for why this hypothesis is important and/or interesting.\n",
        "\n",
        "Areas to be covered to achieve the question objectives:\n",
        "\n",
        "1) Exploratory Data Analysis\n",
        "\n",
        "\n",
        "1.   Univariate analysis\n",
        "2.   Bivariate analysis\n",
        "\n",
        "\n",
        "\n",
        "2)Hypothesis testing"
      ]
    },
    {
      "cell_type": "markdown",
      "metadata": {
        "id": "FLdlNiYkh_xm",
        "colab_type": "text"
      },
      "source": [
        "**Understanding the context**\n",
        "\n",
        "The provided dataset is a daily aggregation, by date and postal code, of the number of events on the Autolib network (car-sharing and recharging).\n",
        "The datasets are \"/content/autolib_daily_events_postal_code (1).csv\" and \"/content/columns_explanation (1).xlsx\""
      ]
    },
    {
      "cell_type": "code",
      "metadata": {
        "id": "zADdHLWZs9TS",
        "colab_type": "code",
        "colab": {}
      },
      "source": [
        "# loading the required libraries\n",
        "import pandas as pd\n",
        "import numpy as np\n",
        "import matplotlib.pyplot as plt\n",
        "import seaborn as sns\n",
        "import sklearn_pandas\n",
        "#Import scipy libraries\n",
        "from scipy import stats\n",
        "\n",
        "from scipy.stats import norm\n",
        "\n",
        "from scipy.stats import t\n",
        "\n",
        "from scipy.stats import ttest_ind\n",
        "\n",
        "from statsmodels.stats import weightstats as stests"
      ],
      "execution_count": 0,
      "outputs": []
    },
    {
      "cell_type": "code",
      "metadata": {
        "id": "69EmoVAEo7BA",
        "colab_type": "code",
        "colab": {}
      },
      "source": [
        "plt.style.use('dark_background')"
      ],
      "execution_count": 0,
      "outputs": []
    },
    {
      "cell_type": "code",
      "metadata": {
        "id": "wJt0pHplsdzu",
        "colab_type": "code",
        "outputId": "4597646b-cd79-4141-fb26-91925bf340c4",
        "colab": {
          "base_uri": "https://localhost:8080/",
          "height": 450
        }
      },
      "source": [
        "#Loading the data dictionary\n",
        "dict = pd.read_excel('/content/columns_explanation (1).xlsx')\n",
        "dict"
      ],
      "execution_count": 0,
      "outputs": [
        {
          "output_type": "execute_result",
          "data": {
            "text/html": [
              "<div>\n",
              "<style scoped>\n",
              "    .dataframe tbody tr th:only-of-type {\n",
              "        vertical-align: middle;\n",
              "    }\n",
              "\n",
              "    .dataframe tbody tr th {\n",
              "        vertical-align: top;\n",
              "    }\n",
              "\n",
              "    .dataframe thead th {\n",
              "        text-align: right;\n",
              "    }\n",
              "</style>\n",
              "<table border=\"1\" class=\"dataframe\">\n",
              "  <thead>\n",
              "    <tr style=\"text-align: right;\">\n",
              "      <th></th>\n",
              "      <th>Column name</th>\n",
              "      <th>explanation</th>\n",
              "    </tr>\n",
              "  </thead>\n",
              "  <tbody>\n",
              "    <tr>\n",
              "      <th>0</th>\n",
              "      <td>Postal code</td>\n",
              "      <td>postal code of the area (in Paris)</td>\n",
              "    </tr>\n",
              "    <tr>\n",
              "      <th>1</th>\n",
              "      <td>date</td>\n",
              "      <td>date of the row aggregation</td>\n",
              "    </tr>\n",
              "    <tr>\n",
              "      <th>2</th>\n",
              "      <td>n_daily_data_points</td>\n",
              "      <td>number of daily data poinst that were availabl...</td>\n",
              "    </tr>\n",
              "    <tr>\n",
              "      <th>3</th>\n",
              "      <td>dayOfWeek</td>\n",
              "      <td>identifier of weekday (0: Monday -&gt; 6: Sunday)</td>\n",
              "    </tr>\n",
              "    <tr>\n",
              "      <th>4</th>\n",
              "      <td>day_type</td>\n",
              "      <td>weekday or weekend</td>\n",
              "    </tr>\n",
              "    <tr>\n",
              "      <th>5</th>\n",
              "      <td>BlueCars_taken_sum</td>\n",
              "      <td>Number of bluecars taken that date in that area</td>\n",
              "    </tr>\n",
              "    <tr>\n",
              "      <th>6</th>\n",
              "      <td>BlueCars_returned_sum</td>\n",
              "      <td>Number of bluecars returned that date in that ...</td>\n",
              "    </tr>\n",
              "    <tr>\n",
              "      <th>7</th>\n",
              "      <td>Utilib_taken_sum</td>\n",
              "      <td>Number of Utilib taken that date in that area</td>\n",
              "    </tr>\n",
              "    <tr>\n",
              "      <th>8</th>\n",
              "      <td>Utilib_returned_sum</td>\n",
              "      <td>Number of Utilib returned that date in that area</td>\n",
              "    </tr>\n",
              "    <tr>\n",
              "      <th>9</th>\n",
              "      <td>Utilib_14_taken_sum</td>\n",
              "      <td>Number of Utilib 1.4 taken that date in that area</td>\n",
              "    </tr>\n",
              "    <tr>\n",
              "      <th>10</th>\n",
              "      <td>Utilib_14_returned_sum</td>\n",
              "      <td>Number of Utilib 1.4 returned that date in tha...</td>\n",
              "    </tr>\n",
              "    <tr>\n",
              "      <th>11</th>\n",
              "      <td>Slots_freed_sum</td>\n",
              "      <td>Number of recharging slots released that date ...</td>\n",
              "    </tr>\n",
              "    <tr>\n",
              "      <th>12</th>\n",
              "      <td>Slots_taken_sum</td>\n",
              "      <td>Number of rechargign slots taken that date in ...</td>\n",
              "    </tr>\n",
              "  </tbody>\n",
              "</table>\n",
              "</div>"
            ],
            "text/plain": [
              "               Column name                                        explanation\n",
              "0              Postal code                 postal code of the area (in Paris)\n",
              "1                     date                        date of the row aggregation\n",
              "2      n_daily_data_points  number of daily data poinst that were availabl...\n",
              "3                dayOfWeek     identifier of weekday (0: Monday -> 6: Sunday)\n",
              "4                 day_type                                 weekday or weekend\n",
              "5       BlueCars_taken_sum    Number of bluecars taken that date in that area\n",
              "6    BlueCars_returned_sum  Number of bluecars returned that date in that ...\n",
              "7         Utilib_taken_sum      Number of Utilib taken that date in that area\n",
              "8      Utilib_returned_sum   Number of Utilib returned that date in that area\n",
              "9      Utilib_14_taken_sum  Number of Utilib 1.4 taken that date in that area\n",
              "10  Utilib_14_returned_sum  Number of Utilib 1.4 returned that date in tha...\n",
              "11         Slots_freed_sum  Number of recharging slots released that date ...\n",
              "12         Slots_taken_sum  Number of rechargign slots taken that date in ..."
            ]
          },
          "metadata": {
            "tags": []
          },
          "execution_count": 54
        }
      ]
    },
    {
      "cell_type": "code",
      "metadata": {
        "id": "q8yimldjs-IS",
        "colab_type": "code",
        "colab": {}
      },
      "source": [
        "#loading the dataset\n",
        "Autolib = pd.read_csv('/content/autolib_daily_events_postal_code (1).csv')"
      ],
      "execution_count": 0,
      "outputs": []
    },
    {
      "cell_type": "code",
      "metadata": {
        "id": "zTEW8BG1tjcw",
        "colab_type": "code",
        "outputId": "7a235c82-f38d-45f4-ba55-b8055395a645",
        "colab": {
          "base_uri": "https://localhost:8080/",
          "height": 240
        }
      },
      "source": [
        "#previewing the first 5 rows\n",
        "Autolib.head(5)"
      ],
      "execution_count": 0,
      "outputs": [
        {
          "output_type": "execute_result",
          "data": {
            "text/html": [
              "<div>\n",
              "<style scoped>\n",
              "    .dataframe tbody tr th:only-of-type {\n",
              "        vertical-align: middle;\n",
              "    }\n",
              "\n",
              "    .dataframe tbody tr th {\n",
              "        vertical-align: top;\n",
              "    }\n",
              "\n",
              "    .dataframe thead th {\n",
              "        text-align: right;\n",
              "    }\n",
              "</style>\n",
              "<table border=\"1\" class=\"dataframe\">\n",
              "  <thead>\n",
              "    <tr style=\"text-align: right;\">\n",
              "      <th></th>\n",
              "      <th>Postal code</th>\n",
              "      <th>date</th>\n",
              "      <th>n_daily_data_points</th>\n",
              "      <th>dayOfWeek</th>\n",
              "      <th>day_type</th>\n",
              "      <th>BlueCars_taken_sum</th>\n",
              "      <th>BlueCars_returned_sum</th>\n",
              "      <th>Utilib_taken_sum</th>\n",
              "      <th>Utilib_returned_sum</th>\n",
              "      <th>Utilib_14_taken_sum</th>\n",
              "      <th>Utilib_14_returned_sum</th>\n",
              "      <th>Slots_freed_sum</th>\n",
              "      <th>Slots_taken_sum</th>\n",
              "    </tr>\n",
              "  </thead>\n",
              "  <tbody>\n",
              "    <tr>\n",
              "      <th>0</th>\n",
              "      <td>75001</td>\n",
              "      <td>1/1/2018</td>\n",
              "      <td>1440</td>\n",
              "      <td>0</td>\n",
              "      <td>weekday</td>\n",
              "      <td>110</td>\n",
              "      <td>103</td>\n",
              "      <td>3</td>\n",
              "      <td>2</td>\n",
              "      <td>10</td>\n",
              "      <td>9</td>\n",
              "      <td>22</td>\n",
              "      <td>20</td>\n",
              "    </tr>\n",
              "    <tr>\n",
              "      <th>1</th>\n",
              "      <td>75001</td>\n",
              "      <td>1/2/2018</td>\n",
              "      <td>1438</td>\n",
              "      <td>1</td>\n",
              "      <td>weekday</td>\n",
              "      <td>98</td>\n",
              "      <td>94</td>\n",
              "      <td>1</td>\n",
              "      <td>1</td>\n",
              "      <td>8</td>\n",
              "      <td>8</td>\n",
              "      <td>23</td>\n",
              "      <td>22</td>\n",
              "    </tr>\n",
              "    <tr>\n",
              "      <th>2</th>\n",
              "      <td>75001</td>\n",
              "      <td>1/3/2018</td>\n",
              "      <td>1439</td>\n",
              "      <td>2</td>\n",
              "      <td>weekday</td>\n",
              "      <td>138</td>\n",
              "      <td>139</td>\n",
              "      <td>0</td>\n",
              "      <td>0</td>\n",
              "      <td>2</td>\n",
              "      <td>2</td>\n",
              "      <td>27</td>\n",
              "      <td>27</td>\n",
              "    </tr>\n",
              "    <tr>\n",
              "      <th>3</th>\n",
              "      <td>75001</td>\n",
              "      <td>1/4/2018</td>\n",
              "      <td>1320</td>\n",
              "      <td>3</td>\n",
              "      <td>weekday</td>\n",
              "      <td>104</td>\n",
              "      <td>104</td>\n",
              "      <td>2</td>\n",
              "      <td>2</td>\n",
              "      <td>9</td>\n",
              "      <td>8</td>\n",
              "      <td>25</td>\n",
              "      <td>21</td>\n",
              "    </tr>\n",
              "    <tr>\n",
              "      <th>4</th>\n",
              "      <td>75001</td>\n",
              "      <td>1/5/2018</td>\n",
              "      <td>1440</td>\n",
              "      <td>4</td>\n",
              "      <td>weekday</td>\n",
              "      <td>114</td>\n",
              "      <td>117</td>\n",
              "      <td>3</td>\n",
              "      <td>3</td>\n",
              "      <td>6</td>\n",
              "      <td>6</td>\n",
              "      <td>18</td>\n",
              "      <td>20</td>\n",
              "    </tr>\n",
              "  </tbody>\n",
              "</table>\n",
              "</div>"
            ],
            "text/plain": [
              "   Postal code      date  ...  Slots_freed_sum  Slots_taken_sum\n",
              "0        75001  1/1/2018  ...               22               20\n",
              "1        75001  1/2/2018  ...               23               22\n",
              "2        75001  1/3/2018  ...               27               27\n",
              "3        75001  1/4/2018  ...               25               21\n",
              "4        75001  1/5/2018  ...               18               20\n",
              "\n",
              "[5 rows x 13 columns]"
            ]
          },
          "metadata": {
            "tags": []
          },
          "execution_count": 40
        }
      ]
    },
    {
      "cell_type": "code",
      "metadata": {
        "id": "sjY0dqwytvYI",
        "colab_type": "code",
        "outputId": "a47b0dbd-05ec-4d7a-aa1c-10311ee38bc1",
        "colab": {
          "base_uri": "https://localhost:8080/",
          "height": 240
        }
      },
      "source": [
        "#previewing the last 5 rows\n",
        "Autolib.tail(5)"
      ],
      "execution_count": 0,
      "outputs": [
        {
          "output_type": "execute_result",
          "data": {
            "text/html": [
              "<div>\n",
              "<style scoped>\n",
              "    .dataframe tbody tr th:only-of-type {\n",
              "        vertical-align: middle;\n",
              "    }\n",
              "\n",
              "    .dataframe tbody tr th {\n",
              "        vertical-align: top;\n",
              "    }\n",
              "\n",
              "    .dataframe thead th {\n",
              "        text-align: right;\n",
              "    }\n",
              "</style>\n",
              "<table border=\"1\" class=\"dataframe\">\n",
              "  <thead>\n",
              "    <tr style=\"text-align: right;\">\n",
              "      <th></th>\n",
              "      <th>Postal code</th>\n",
              "      <th>date</th>\n",
              "      <th>n_daily_data_points</th>\n",
              "      <th>dayOfWeek</th>\n",
              "      <th>day_type</th>\n",
              "      <th>BlueCars_taken_sum</th>\n",
              "      <th>BlueCars_returned_sum</th>\n",
              "      <th>Utilib_taken_sum</th>\n",
              "      <th>Utilib_returned_sum</th>\n",
              "      <th>Utilib_14_taken_sum</th>\n",
              "      <th>Utilib_14_returned_sum</th>\n",
              "      <th>Slots_freed_sum</th>\n",
              "      <th>Slots_taken_sum</th>\n",
              "    </tr>\n",
              "  </thead>\n",
              "  <tbody>\n",
              "    <tr>\n",
              "      <th>16080</th>\n",
              "      <td>95880</td>\n",
              "      <td>6/15/2018</td>\n",
              "      <td>1440</td>\n",
              "      <td>4</td>\n",
              "      <td>weekday</td>\n",
              "      <td>15</td>\n",
              "      <td>10</td>\n",
              "      <td>0</td>\n",
              "      <td>0</td>\n",
              "      <td>2</td>\n",
              "      <td>3</td>\n",
              "      <td>0</td>\n",
              "      <td>0</td>\n",
              "    </tr>\n",
              "    <tr>\n",
              "      <th>16081</th>\n",
              "      <td>95880</td>\n",
              "      <td>6/16/2018</td>\n",
              "      <td>1440</td>\n",
              "      <td>5</td>\n",
              "      <td>weekend</td>\n",
              "      <td>19</td>\n",
              "      <td>19</td>\n",
              "      <td>0</td>\n",
              "      <td>0</td>\n",
              "      <td>2</td>\n",
              "      <td>1</td>\n",
              "      <td>0</td>\n",
              "      <td>0</td>\n",
              "    </tr>\n",
              "    <tr>\n",
              "      <th>16082</th>\n",
              "      <td>95880</td>\n",
              "      <td>6/17/2018</td>\n",
              "      <td>1440</td>\n",
              "      <td>6</td>\n",
              "      <td>weekend</td>\n",
              "      <td>33</td>\n",
              "      <td>35</td>\n",
              "      <td>1</td>\n",
              "      <td>1</td>\n",
              "      <td>0</td>\n",
              "      <td>0</td>\n",
              "      <td>0</td>\n",
              "      <td>0</td>\n",
              "    </tr>\n",
              "    <tr>\n",
              "      <th>16083</th>\n",
              "      <td>95880</td>\n",
              "      <td>6/18/2018</td>\n",
              "      <td>1440</td>\n",
              "      <td>0</td>\n",
              "      <td>weekday</td>\n",
              "      <td>11</td>\n",
              "      <td>14</td>\n",
              "      <td>3</td>\n",
              "      <td>5</td>\n",
              "      <td>2</td>\n",
              "      <td>2</td>\n",
              "      <td>0</td>\n",
              "      <td>0</td>\n",
              "    </tr>\n",
              "    <tr>\n",
              "      <th>16084</th>\n",
              "      <td>95880</td>\n",
              "      <td>6/19/2018</td>\n",
              "      <td>1370</td>\n",
              "      <td>1</td>\n",
              "      <td>weekday</td>\n",
              "      <td>2</td>\n",
              "      <td>2</td>\n",
              "      <td>2</td>\n",
              "      <td>1</td>\n",
              "      <td>0</td>\n",
              "      <td>0</td>\n",
              "      <td>0</td>\n",
              "      <td>0</td>\n",
              "    </tr>\n",
              "  </tbody>\n",
              "</table>\n",
              "</div>"
            ],
            "text/plain": [
              "       Postal code       date  ...  Slots_freed_sum  Slots_taken_sum\n",
              "16080        95880  6/15/2018  ...                0                0\n",
              "16081        95880  6/16/2018  ...                0                0\n",
              "16082        95880  6/17/2018  ...                0                0\n",
              "16083        95880  6/18/2018  ...                0                0\n",
              "16084        95880  6/19/2018  ...                0                0\n",
              "\n",
              "[5 rows x 13 columns]"
            ]
          },
          "metadata": {
            "tags": []
          },
          "execution_count": 41
        }
      ]
    },
    {
      "cell_type": "code",
      "metadata": {
        "id": "vY9uH8wetvqn",
        "colab_type": "code",
        "outputId": "af9c9a3d-24ed-4312-d2c6-9bf24f523750",
        "colab": {
          "base_uri": "https://localhost:8080/",
          "height": 34
        }
      },
      "source": [
        "Autolib.shape"
      ],
      "execution_count": 0,
      "outputs": [
        {
          "output_type": "execute_result",
          "data": {
            "text/plain": [
              "(16085, 13)"
            ]
          },
          "metadata": {
            "tags": []
          },
          "execution_count": 42
        }
      ]
    },
    {
      "cell_type": "code",
      "metadata": {
        "id": "m-TcPEFEuDKh",
        "colab_type": "code",
        "outputId": "7f5140bb-d840-4666-f6cb-9330934bba7a",
        "colab": {
          "base_uri": "https://localhost:8080/",
          "height": 296
        }
      },
      "source": [
        "Autolib.describe()"
      ],
      "execution_count": 0,
      "outputs": [
        {
          "output_type": "execute_result",
          "data": {
            "text/html": [
              "<div>\n",
              "<style scoped>\n",
              "    .dataframe tbody tr th:only-of-type {\n",
              "        vertical-align: middle;\n",
              "    }\n",
              "\n",
              "    .dataframe tbody tr th {\n",
              "        vertical-align: top;\n",
              "    }\n",
              "\n",
              "    .dataframe thead th {\n",
              "        text-align: right;\n",
              "    }\n",
              "</style>\n",
              "<table border=\"1\" class=\"dataframe\">\n",
              "  <thead>\n",
              "    <tr style=\"text-align: right;\">\n",
              "      <th></th>\n",
              "      <th>postal_code</th>\n",
              "      <th>data_points</th>\n",
              "      <th>day_of_week</th>\n",
              "      <th>bluecars_taken_sum</th>\n",
              "      <th>bluecars_returned_sum</th>\n",
              "      <th>slots_freed_sum</th>\n",
              "      <th>slots_taken_sum</th>\n",
              "    </tr>\n",
              "  </thead>\n",
              "  <tbody>\n",
              "    <tr>\n",
              "      <th>count</th>\n",
              "      <td>16085.000000</td>\n",
              "      <td>16085.000000</td>\n",
              "      <td>16085.000000</td>\n",
              "      <td>16085.000000</td>\n",
              "      <td>16085.000000</td>\n",
              "      <td>16085.000000</td>\n",
              "      <td>16085.000000</td>\n",
              "    </tr>\n",
              "    <tr>\n",
              "      <th>mean</th>\n",
              "      <td>88791.293876</td>\n",
              "      <td>1431.330619</td>\n",
              "      <td>2.969599</td>\n",
              "      <td>125.926951</td>\n",
              "      <td>125.912714</td>\n",
              "      <td>22.629033</td>\n",
              "      <td>22.629282</td>\n",
              "    </tr>\n",
              "    <tr>\n",
              "      <th>std</th>\n",
              "      <td>7647.342000</td>\n",
              "      <td>33.212050</td>\n",
              "      <td>2.008378</td>\n",
              "      <td>185.426579</td>\n",
              "      <td>185.501535</td>\n",
              "      <td>52.120263</td>\n",
              "      <td>52.146030</td>\n",
              "    </tr>\n",
              "    <tr>\n",
              "      <th>min</th>\n",
              "      <td>75001.000000</td>\n",
              "      <td>1174.000000</td>\n",
              "      <td>0.000000</td>\n",
              "      <td>0.000000</td>\n",
              "      <td>0.000000</td>\n",
              "      <td>0.000000</td>\n",
              "      <td>0.000000</td>\n",
              "    </tr>\n",
              "    <tr>\n",
              "      <th>25%</th>\n",
              "      <td>91330.000000</td>\n",
              "      <td>1439.000000</td>\n",
              "      <td>1.000000</td>\n",
              "      <td>20.000000</td>\n",
              "      <td>20.000000</td>\n",
              "      <td>0.000000</td>\n",
              "      <td>0.000000</td>\n",
              "    </tr>\n",
              "    <tr>\n",
              "      <th>50%</th>\n",
              "      <td>92340.000000</td>\n",
              "      <td>1440.000000</td>\n",
              "      <td>3.000000</td>\n",
              "      <td>46.000000</td>\n",
              "      <td>46.000000</td>\n",
              "      <td>0.000000</td>\n",
              "      <td>0.000000</td>\n",
              "    </tr>\n",
              "    <tr>\n",
              "      <th>75%</th>\n",
              "      <td>93400.000000</td>\n",
              "      <td>1440.000000</td>\n",
              "      <td>5.000000</td>\n",
              "      <td>135.000000</td>\n",
              "      <td>135.000000</td>\n",
              "      <td>5.000000</td>\n",
              "      <td>5.000000</td>\n",
              "    </tr>\n",
              "    <tr>\n",
              "      <th>max</th>\n",
              "      <td>95880.000000</td>\n",
              "      <td>1440.000000</td>\n",
              "      <td>6.000000</td>\n",
              "      <td>1352.000000</td>\n",
              "      <td>1332.000000</td>\n",
              "      <td>360.000000</td>\n",
              "      <td>359.000000</td>\n",
              "    </tr>\n",
              "  </tbody>\n",
              "</table>\n",
              "</div>"
            ],
            "text/plain": [
              "        postal_code   data_points  ...  slots_freed_sum  slots_taken_sum\n",
              "count  16085.000000  16085.000000  ...     16085.000000     16085.000000\n",
              "mean   88791.293876   1431.330619  ...        22.629033        22.629282\n",
              "std     7647.342000     33.212050  ...        52.120263        52.146030\n",
              "min    75001.000000   1174.000000  ...         0.000000         0.000000\n",
              "25%    91330.000000   1439.000000  ...         0.000000         0.000000\n",
              "50%    92340.000000   1440.000000  ...         0.000000         0.000000\n",
              "75%    93400.000000   1440.000000  ...         5.000000         5.000000\n",
              "max    95880.000000   1440.000000  ...       360.000000       359.000000\n",
              "\n",
              "[8 rows x 7 columns]"
            ]
          },
          "metadata": {
            "tags": []
          },
          "execution_count": 55
        }
      ]
    },
    {
      "cell_type": "code",
      "metadata": {
        "id": "Jtgx_fG9uDd9",
        "colab_type": "code",
        "outputId": "ce5b405f-dc83-4306-e03f-ee3fbbf892f7",
        "colab": {
          "base_uri": "https://localhost:8080/",
          "height": 362
        }
      },
      "source": [
        "Autolib.info()"
      ],
      "execution_count": 0,
      "outputs": [
        {
          "output_type": "stream",
          "text": [
            "<class 'pandas.core.frame.DataFrame'>\n",
            "RangeIndex: 16085 entries, 0 to 16084\n",
            "Data columns (total 13 columns):\n",
            " #   Column                  Non-Null Count  Dtype \n",
            "---  ------                  --------------  ----- \n",
            " 0   Postal code             16085 non-null  int64 \n",
            " 1   date                    16085 non-null  object\n",
            " 2   n_daily_data_points     16085 non-null  int64 \n",
            " 3   dayOfWeek               16085 non-null  int64 \n",
            " 4   day_type                16085 non-null  object\n",
            " 5   BlueCars_taken_sum      16085 non-null  int64 \n",
            " 6   BlueCars_returned_sum   16085 non-null  int64 \n",
            " 7   Utilib_taken_sum        16085 non-null  int64 \n",
            " 8   Utilib_returned_sum     16085 non-null  int64 \n",
            " 9   Utilib_14_taken_sum     16085 non-null  int64 \n",
            " 10  Utilib_14_returned_sum  16085 non-null  int64 \n",
            " 11  Slots_freed_sum         16085 non-null  int64 \n",
            " 12  Slots_taken_sum         16085 non-null  int64 \n",
            "dtypes: int64(11), object(2)\n",
            "memory usage: 1.6+ MB\n"
          ],
          "name": "stdout"
        }
      ]
    },
    {
      "cell_type": "markdown",
      "metadata": {
        "id": "RjOchNNHvJiu",
        "colab_type": "text"
      },
      "source": [
        "# **Tidying The Dataset**"
      ]
    },
    {
      "cell_type": "code",
      "metadata": {
        "id": "T8TnD1biwV6L",
        "colab_type": "code",
        "outputId": "ad0d95be-25c9-41c2-a591-86a75c4cae0d",
        "colab": {
          "base_uri": "https://localhost:8080/",
          "height": 103
        }
      },
      "source": [
        "Autolib.columns"
      ],
      "execution_count": 0,
      "outputs": [
        {
          "output_type": "execute_result",
          "data": {
            "text/plain": [
              "Index(['Postal code', 'date', 'n_daily_data_points', 'dayOfWeek', 'day_type',\n",
              "       'BlueCars_taken_sum', 'BlueCars_returned_sum', 'Utilib_taken_sum',\n",
              "       'Utilib_returned_sum', 'Utilib_14_taken_sum', 'Utilib_14_returned_sum',\n",
              "       'Slots_freed_sum', 'Slots_taken_sum'],\n",
              "      dtype='object')"
            ]
          },
          "metadata": {
            "tags": []
          },
          "execution_count": 44
        }
      ]
    },
    {
      "cell_type": "code",
      "metadata": {
        "id": "LczHRIQfRYiS",
        "colab_type": "code",
        "outputId": "f28c2352-0ae6-4dd9-9bc5-407da02b1b1e",
        "colab": {
          "base_uri": "https://localhost:8080/",
          "height": 103
        }
      },
      "source": [
        "#cleaning data using strip(),lower(), replace()\n",
        "Autolib.columns = Autolib.columns.str.strip().str.lower().str.replace(' ', '_').str.replace('(', '').str.replace(')', '')\n",
        "print(Autolib.columns)"
      ],
      "execution_count": 0,
      "outputs": [
        {
          "output_type": "stream",
          "text": [
            "Index(['postal_code', 'date', 'n_daily_data_points', 'dayofweek', 'day_type',\n",
            "       'bluecars_taken_sum', 'bluecars_returned_sum', 'utilib_taken_sum',\n",
            "       'utilib_returned_sum', 'utilib_14_taken_sum', 'utilib_14_returned_sum',\n",
            "       'slots_freed_sum', 'slots_taken_sum'],\n",
            "      dtype='object')\n"
          ],
          "name": "stdout"
        }
      ]
    },
    {
      "cell_type": "code",
      "metadata": {
        "id": "ZjsBdt61SiFf",
        "colab_type": "code",
        "outputId": "9a15dfd9-c76e-4ce3-a231-af84e6440698",
        "colab": {
          "base_uri": "https://localhost:8080/",
          "height": 103
        }
      },
      "source": [
        "#Renaming columns\n",
        "Autolib.rename(columns={'dayofweek':'day_of_week'}, inplace = True)\n",
        "Autolib.rename(columns={'n_daily_data_points':'data_points'}, inplace = True)\n",
        "Autolib.columns"
      ],
      "execution_count": 0,
      "outputs": [
        {
          "output_type": "execute_result",
          "data": {
            "text/plain": [
              "Index(['postal_code', 'date', 'data_points', 'day_of_week', 'day_type',\n",
              "       'bluecars_taken_sum', 'bluecars_returned_sum', 'utilib_taken_sum',\n",
              "       'utilib_returned_sum', 'utilib_14_taken_sum', 'utilib_14_returned_sum',\n",
              "       'slots_freed_sum', 'slots_taken_sum'],\n",
              "      dtype='object')"
            ]
          },
          "metadata": {
            "tags": []
          },
          "execution_count": 46
        }
      ]
    },
    {
      "cell_type": "markdown",
      "metadata": {
        "id": "epZL70lbTdL3",
        "colab_type": "text"
      },
      "source": [
        "                                 \n",
        "                               Dealing with Missing variables"
      ]
    },
    {
      "cell_type": "code",
      "metadata": {
        "id": "C-ICbLizTz8f",
        "colab_type": "code",
        "outputId": "1cb6ce4c-eb1f-4f4c-960d-d7964c52e871",
        "colab": {
          "base_uri": "https://localhost:8080/",
          "height": 258
        }
      },
      "source": [
        "#checking for null values\n",
        "Autolib.isna().sum()"
      ],
      "execution_count": 0,
      "outputs": [
        {
          "output_type": "execute_result",
          "data": {
            "text/plain": [
              "postal_code               0\n",
              "date                      0\n",
              "data_points               0\n",
              "day_of_week               0\n",
              "day_type                  0\n",
              "bluecars_taken_sum        0\n",
              "bluecars_returned_sum     0\n",
              "utilib_taken_sum          0\n",
              "utilib_returned_sum       0\n",
              "utilib_14_taken_sum       0\n",
              "utilib_14_returned_sum    0\n",
              "slots_freed_sum           0\n",
              "slots_taken_sum           0\n",
              "dtype: int64"
            ]
          },
          "metadata": {
            "tags": []
          },
          "execution_count": 47
        }
      ]
    },
    {
      "cell_type": "markdown",
      "metadata": {
        "id": "iapDQNLaZsNv",
        "colab_type": "text"
      },
      "source": [
        "The dataset has no null values"
      ]
    },
    {
      "cell_type": "code",
      "metadata": {
        "id": "59L40wk1YiVI",
        "colab_type": "code",
        "outputId": "5c95884f-a228-4e09-a49a-fc4fc4b76771",
        "colab": {
          "base_uri": "https://localhost:8080/",
          "height": 258
        }
      },
      "source": [
        "#checking for duplicates values\n",
        "Autolib_duplicate = Autolib[Autolib.duplicated()]\n",
        "Autolib_duplicate.sum()"
      ],
      "execution_count": 0,
      "outputs": [
        {
          "output_type": "execute_result",
          "data": {
            "text/plain": [
              "postal_code               0.0\n",
              "date                      0.0\n",
              "data_points               0.0\n",
              "day_of_week               0.0\n",
              "day_type                  0.0\n",
              "bluecars_taken_sum        0.0\n",
              "bluecars_returned_sum     0.0\n",
              "utilib_taken_sum          0.0\n",
              "utilib_returned_sum       0.0\n",
              "utilib_14_taken_sum       0.0\n",
              "utilib_14_returned_sum    0.0\n",
              "slots_freed_sum           0.0\n",
              "slots_taken_sum           0.0\n",
              "dtype: float64"
            ]
          },
          "metadata": {
            "tags": []
          },
          "execution_count": 48
        }
      ]
    },
    {
      "cell_type": "markdown",
      "metadata": {
        "id": "zuil1gJhZjbg",
        "colab_type": "text"
      },
      "source": [
        "the dataset has no duplicates"
      ]
    },
    {
      "cell_type": "markdown",
      "metadata": {
        "id": "E4xgYQHLX_-Q",
        "colab_type": "text"
      },
      "source": [
        "**Note**\n",
        "We are using Bluecars for analysis so we will drop unneccarily columns\n"
      ]
    },
    {
      "cell_type": "code",
      "metadata": {
        "id": "tVNIx87sYce1",
        "colab_type": "code",
        "colab": {}
      },
      "source": [
        "# #Dropping columns that are needed for this analysis\n",
        "Autolib.drop(['utilib_taken_sum', 'utilib_returned_sum', 'utilib_14_taken_sum', 'utilib_14_returned_sum'], axis =1, inplace = True)"
      ],
      "execution_count": 0,
      "outputs": []
    },
    {
      "cell_type": "code",
      "metadata": {
        "id": "GxuxEH01acDL",
        "colab_type": "code",
        "outputId": "82159c26-c6c6-4b67-e6ee-49a1f5913662",
        "colab": {
          "base_uri": "https://localhost:8080/",
          "height": 86
        }
      },
      "source": [
        "# checking if the columns have been dropped\n",
        "Autolib.columns"
      ],
      "execution_count": 0,
      "outputs": [
        {
          "output_type": "execute_result",
          "data": {
            "text/plain": [
              "Index(['postal_code', 'date', 'data_points', 'day_of_week', 'day_type',\n",
              "       'bluecars_taken_sum', 'bluecars_returned_sum', 'slots_freed_sum',\n",
              "       'slots_taken_sum'],\n",
              "      dtype='object')"
            ]
          },
          "metadata": {
            "tags": []
          },
          "execution_count": 50
        }
      ]
    },
    {
      "cell_type": "markdown",
      "metadata": {
        "id": "atszRYRJa17X",
        "colab_type": "text"
      },
      "source": [
        "                             Checking For Outliers"
      ]
    },
    {
      "cell_type": "code",
      "metadata": {
        "id": "2KnZdZH6nQGl",
        "colab_type": "code",
        "outputId": "07dcd1ec-7ff3-4eb3-ca14-bb3a02788fc4",
        "colab": {
          "base_uri": "https://localhost:8080/",
          "height": 223
        }
      },
      "source": [
        "# using interquatile range\n",
        "new_auto = Autolib.sort_values(['data_points', 'bluecars_taken_sum', 'bluecars_returned_sum','slots_freed_sum', 'slots_taken_sum']\n",
        "                               ,ascending = True)\n",
        "new_auto.head()"
      ],
      "execution_count": 0,
      "outputs": [
        {
          "output_type": "execute_result",
          "data": {
            "text/html": [
              "<div>\n",
              "<style scoped>\n",
              "    .dataframe tbody tr th:only-of-type {\n",
              "        vertical-align: middle;\n",
              "    }\n",
              "\n",
              "    .dataframe tbody tr th {\n",
              "        vertical-align: top;\n",
              "    }\n",
              "\n",
              "    .dataframe thead th {\n",
              "        text-align: right;\n",
              "    }\n",
              "</style>\n",
              "<table border=\"1\" class=\"dataframe\">\n",
              "  <thead>\n",
              "    <tr style=\"text-align: right;\">\n",
              "      <th></th>\n",
              "      <th>postal_code</th>\n",
              "      <th>date</th>\n",
              "      <th>data_points</th>\n",
              "      <th>day_of_week</th>\n",
              "      <th>day_type</th>\n",
              "      <th>bluecars_taken_sum</th>\n",
              "      <th>bluecars_returned_sum</th>\n",
              "      <th>slots_freed_sum</th>\n",
              "      <th>slots_taken_sum</th>\n",
              "    </tr>\n",
              "  </thead>\n",
              "  <tbody>\n",
              "    <tr>\n",
              "      <th>11925</th>\n",
              "      <td>93370</td>\n",
              "      <td>5/23/2018</td>\n",
              "      <td>1174</td>\n",
              "      <td>2</td>\n",
              "      <td>weekday</td>\n",
              "      <td>1</td>\n",
              "      <td>1</td>\n",
              "      <td>0</td>\n",
              "      <td>0</td>\n",
              "    </tr>\n",
              "    <tr>\n",
              "      <th>12315</th>\n",
              "      <td>93440</td>\n",
              "      <td>5/23/2018</td>\n",
              "      <td>1174</td>\n",
              "      <td>2</td>\n",
              "      <td>weekday</td>\n",
              "      <td>1</td>\n",
              "      <td>1</td>\n",
              "      <td>0</td>\n",
              "      <td>0</td>\n",
              "    </tr>\n",
              "    <tr>\n",
              "      <th>12009</th>\n",
              "      <td>93390</td>\n",
              "      <td>5/23/2018</td>\n",
              "      <td>1174</td>\n",
              "      <td>2</td>\n",
              "      <td>weekday</td>\n",
              "      <td>3</td>\n",
              "      <td>3</td>\n",
              "      <td>0</td>\n",
              "      <td>0</td>\n",
              "    </tr>\n",
              "    <tr>\n",
              "      <th>13251</th>\n",
              "      <td>94100</td>\n",
              "      <td>5/23/2018</td>\n",
              "      <td>1174</td>\n",
              "      <td>2</td>\n",
              "      <td>weekday</td>\n",
              "      <td>4</td>\n",
              "      <td>5</td>\n",
              "      <td>0</td>\n",
              "      <td>0</td>\n",
              "    </tr>\n",
              "    <tr>\n",
              "      <th>10559</th>\n",
              "      <td>93150</td>\n",
              "      <td>5/23/2018</td>\n",
              "      <td>1174</td>\n",
              "      <td>2</td>\n",
              "      <td>weekday</td>\n",
              "      <td>5</td>\n",
              "      <td>8</td>\n",
              "      <td>3</td>\n",
              "      <td>4</td>\n",
              "    </tr>\n",
              "  </tbody>\n",
              "</table>\n",
              "</div>"
            ],
            "text/plain": [
              "       postal_code       date  ...  slots_freed_sum  slots_taken_sum\n",
              "11925        93370  5/23/2018  ...                0                0\n",
              "12315        93440  5/23/2018  ...                0                0\n",
              "12009        93390  5/23/2018  ...                0                0\n",
              "13251        94100  5/23/2018  ...                0                0\n",
              "10559        93150  5/23/2018  ...                3                4\n",
              "\n",
              "[5 rows x 9 columns]"
            ]
          },
          "metadata": {
            "tags": []
          },
          "execution_count": 51
        }
      ]
    },
    {
      "cell_type": "code",
      "metadata": {
        "id": "jNhENxbKbMmb",
        "colab_type": "code",
        "outputId": "ec06741e-e50a-41f1-8fba-b890e19114bb",
        "colab": {
          "base_uri": "https://localhost:8080/",
          "height": 729
        }
      },
      "source": [
        "#checking for outliers using box plot\n",
        "col_names= [ 'bluecars_taken_sum','bluecars_returned_sum']\n",
        "fig, ax=plt.subplots(len(col_names), figsize=(16,12))\n",
        "for i, col_val in enumerate(col_names):\n",
        "  sns.boxplot(Autolib[col_val], ax=ax[i])\n",
        "  ax[i].set_title ('box plot'+col_val, fontsize= 12)\n",
        "  ax[i].set_xlabel(col_val, fontsize= 8)\n",
        "  ax[i].set_ylabel('count', fontsize= 8)\n",
        "plt.show()"
      ],
      "execution_count": 0,
      "outputs": [
        {
          "output_type": "display_data",
          "data": {
            "image/png": "[encoded data removed]",
            "text/plain": [
              "<Figure size 1152x864 with 2 Axes>"
            ]
          },
          "metadata": {
            "tags": []
          }
        }
      ]
    },
    {
      "cell_type": "markdown",
      "metadata": {
        "id": "2u2C8eVVpo1G",
        "colab_type": "text"
      },
      "source": [
        "In the above boxplot,there are so many outliers so we will not drop them rather we will continue to use them in our analysis."
      ]
    },
    {
      "cell_type": "code",
      "metadata": {
        "id": "bmU71ZGDsJso",
        "colab_type": "code",
        "colab": {}
      },
      "source": [
        "# saving our cleaned dataset\n",
        "Autolib.to_csv(\"./clean_Autolib.csv\")"
      ],
      "execution_count": 0,
      "outputs": []
    },
    {
      "cell_type": "markdown",
      "metadata": {
        "id": "BFsiAuatv7s_",
        "colab_type": "text"
      },
      "source": [
        "                 **Univariate Analysis**   "
      ]
    },
    {
      "cell_type": "code",
      "metadata": {
        "id": "-BkBE0AW2c0D",
        "colab_type": "code",
        "colab": {}
      },
      "source": [
        "                        categorical variables\n",
        "# reading the cleaned dataset\n",
        "autolib = pd.read_csv(\"/content/clean_Autolib.csv\", sep=',', index_col=0)"
      ],
      "execution_count": 0,
      "outputs": []
    },
    {
      "cell_type": "code",
      "metadata": {
        "id": "t2eV6I1A2xPn",
        "colab_type": "code",
        "outputId": "312fcf32-99f0-4a9a-fbda-6fbc5a8d4395",
        "colab": {
          "base_uri": "https://localhost:8080/",
          "height": 34
        }
      },
      "source": [
        "autolib.shape"
      ],
      "execution_count": 0,
      "outputs": [
        {
          "output_type": "execute_result",
          "data": {
            "text/plain": [
              "(16085, 9)"
            ]
          },
          "metadata": {
            "tags": []
          },
          "execution_count": 59
        }
      ]
    },
    {
      "cell_type": "code",
      "metadata": {
        "id": "OJS3ITr2ExxM",
        "colab_type": "code",
        "outputId": "f6483aa0-36d2-4f6a-ae91-27743d3a9bda",
        "colab": {
          "base_uri": "https://localhost:8080/",
          "height": 1000
        }
      },
      "source": [
        "#Creating a frequency table\n",
        "f_table = ('data_points', 'bluecars_taken_sum', 'bluecars_returned_sum','slots_freed_sum', 'slots_taken_sum')\n",
        "for col in f_table:\n",
        "    print(autolib[col].value_counts())\n",
        "    print(\"\\n\")"
      ],
      "execution_count": 0,
      "outputs": [
        {
          "output_type": "stream",
          "text": [
            "1440    10113\n",
            "1439     2579\n",
            "1438      723\n",
            "1437      411\n",
            "1425      207\n",
            "1434      207\n",
            "1417      206\n",
            "1411      104\n",
            "1398      104\n",
            "1174      104\n",
            "1429      104\n",
            "1436      104\n",
            "1435      104\n",
            "1203      103\n",
            "1380      103\n",
            "1364      103\n",
            "1420      103\n",
            "1389      103\n",
            "1318      103\n",
            "1320      103\n",
            "1377      102\n",
            "1396       98\n",
            "1370       94\n",
            "Name: data_points, dtype: int64\n",
            "\n",
            "\n",
            "12      261\n",
            "14      253\n",
            "9       247\n",
            "11      246\n",
            "13      238\n",
            "       ... \n",
            "833       1\n",
            "825       1\n",
            "809       1\n",
            "801       1\n",
            "1335      1\n",
            "Name: bluecars_taken_sum, Length: 932, dtype: int64\n",
            "\n",
            "\n",
            "13      260\n",
            "12      254\n",
            "10      249\n",
            "9       243\n",
            "11      242\n",
            "       ... \n",
            "556       1\n",
            "588       1\n",
            "604       1\n",
            "628       1\n",
            "1287      1\n",
            "Name: bluecars_returned_sum, Length: 929, dtype: int64\n",
            "\n",
            "\n",
            "0      10227\n",
            "1        540\n",
            "2        487\n",
            "3        390\n",
            "4        326\n",
            "       ...  \n",
            "242        1\n",
            "305        1\n",
            "289        1\n",
            "360        1\n",
            "339        1\n",
            "Name: slots_freed_sum, Length: 297, dtype: int64\n",
            "\n",
            "\n",
            "0      10235\n",
            "1        545\n",
            "2        476\n",
            "3        405\n",
            "4        309\n",
            "       ...  \n",
            "330        1\n",
            "338        1\n",
            "346        1\n",
            "267        1\n",
            "315        1\n",
            "Name: slots_taken_sum, Length: 301, dtype: int64\n",
            "\n",
            "\n"
          ],
          "name": "stdout"
        }
      ]
    },
    {
      "cell_type": "code",
      "metadata": {
        "id": "pAFRrtbowNcG",
        "colab_type": "code",
        "outputId": "f402b849-f1e3-43e3-e22e-28ff4ac5915f",
        "colab": {
          "base_uri": "https://localhost:8080/",
          "height": 425
        }
      },
      "source": [
        "#histogram plot show the number of bluecars\n",
        "plt.figure(dpi = 100)\n",
        "sns.set_style(\"darkgrid\")\n",
        "sns.distplot(autolib[\"bluecars_taken_sum\"], kde = False, color = 'red')\n",
        "plt.title(\"A Histogram of number of bluecars taken in a particular date\", color = 'black')\n",
        "plt.xticks(rotation = 45)\n",
        "plt.show()"
      ],
      "execution_count": 0,
      "outputs": [
        {
          "output_type": "display_data",
          "data": {
            "image/png": "[encoded data removed]",
            "text/plain": [
              "<Figure size 600x400 with 1 Axes>"
            ]
          },
          "metadata": {
            "tags": []
          }
        }
      ]
    },
    {
      "cell_type": "markdown",
      "metadata": {
        "id": "0LsCAiYr8R3e",
        "colab_type": "text"
      },
      "source": [
        "The hist above shows that the blue cars taken distribution is skewed to the right.This is because the frequency moves to the right.The mean is less than the mode.This is called negative skweness.\n",
        "\n"
      ]
    },
    {
      "cell_type": "code",
      "metadata": {
        "id": "E4z0GIHfwF88",
        "colab_type": "code",
        "outputId": "3b98c9db-2b58-4d39-8f71-cb3aa7015783",
        "colab": {
          "base_uri": "https://localhost:8080/",
          "height": 425
        }
      },
      "source": [
        "#histogram plot show the number of bluecars returned\n",
        "plt.figure(dpi = 100)\n",
        "sns.set_style(\"white\")\n",
        "sns.distplot(autolib[\"bluecars_returned_sum\"], kde = False, color = 'red')\n",
        "plt.title(\"A Histogram of number of bluecars returned in a particular date\", color = 'black')\n",
        "plt.xticks(rotation = 90)\n",
        "plt.show()"
      ],
      "execution_count": 0,
      "outputs": [
        {
          "output_type": "display_data",
          "data": {
            "image/png": "[encoded data removed]",
            "text/plain": [
              "<Figure size 600x400 with 1 Axes>"
            ]
          },
          "metadata": {
            "tags": []
          }
        }
      ]
    },
    {
      "cell_type": "markdown",
      "metadata": {
        "id": "RAFaZrwb7-ho",
        "colab_type": "text"
      },
      "source": [
        "The histogram above shows that the blue cars returned distribution is skewed to the right.The mean is less than the mode..This is called negative skweness.\n",
        "\n"
      ]
    },
    {
      "cell_type": "code",
      "metadata": {
        "id": "oPvSnQog8Lsu",
        "colab_type": "code",
        "colab": {}
      },
      "source": [
        "# Converting the day of week from from numericals to strings for plotting\n",
        "#\n",
        "autolib['day_of_week'] = autolib.day_of_week.map({0: 'Monday', 1: 'Tuesday', 2: 'Wednesday', 3: 'Thursday', 4: 'Friday'})\n"
      ],
      "execution_count": 0,
      "outputs": []
    },
    {
      "cell_type": "markdown",
      "metadata": {
        "id": "WSBwTxeBrYDD",
        "colab_type": "text"
      },
      "source": [
        "**Central tendancy Measures**"
      ]
    },
    {
      "cell_type": "code",
      "metadata": {
        "id": "_CkIIrUUMvXV",
        "colab_type": "code",
        "outputId": "053f6777-12b8-4b29-ab07-a9d96f973a96",
        "colab": {
          "base_uri": "https://localhost:8080/",
          "height": 276
        }
      },
      "source": [
        "# Calculate and Display the mean by column\n",
        "\n",
        "cols = [ 'bluecars_taken_sum', 'bluecars_returned_sum','slots_freed_sum','data_points', \n",
        "       'slots_taken_sum']\n",
        "\n",
        "\n",
        "\n",
        "for column in cols:\n",
        "  print(\"\\n\")\n",
        "  print('The average ' + column + ' is : ' + str(autolib[column].mean()))"
      ],
      "execution_count": 0,
      "outputs": [
        {
          "output_type": "stream",
          "text": [
            "\n",
            "\n",
            "The average bluecars_taken_sum is : 124.1498290332608\n",
            "\n",
            "\n",
            "The average bluecars_returned_sum is : 124.13826546471869\n",
            "\n",
            "\n",
            "The average slots_freed_sum is : 22.559962698165993\n",
            "\n",
            "\n",
            "The average data_points is : 19.947653092943735\n",
            "\n",
            "\n",
            "The average slots_taken_sum is : 22.5710910786447\n"
          ],
          "name": "stdout"
        }
      ]
    },
    {
      "cell_type": "markdown",
      "metadata": {
        "id": "VqwfvwrV0KIH",
        "colab_type": "text"
      },
      "source": [
        "The mean refers to the average value of a group of numbers. Add up all the figures, divide by the number of values, and that is the average."
      ]
    },
    {
      "cell_type": "markdown",
      "metadata": {
        "id": "tVhe9lYPsGGB",
        "colab_type": "text"
      },
      "source": [
        "Median"
      ]
    },
    {
      "cell_type": "code",
      "metadata": {
        "id": "J23V_2bLsJcP",
        "colab_type": "code",
        "outputId": "3a789c84-de26-4989-b9c8-b0fc0a26b8c3",
        "colab": {
          "base_uri": "https://localhost:8080/",
          "height": 276
        }
      },
      "source": [
        "cols = [ 'bluecars_taken_sum', 'bluecars_returned_sum','slots_freed_sum','data_points', \n",
        "       'slots_taken_sum']\n",
        "\n",
        "\n",
        "\n",
        "for column in cols:\n",
        "  print(\"\\n\")\n",
        "  print('The median ' + column + ' is : ' + str(autolib[column].median()))"
      ],
      "execution_count": 0,
      "outputs": [
        {
          "output_type": "stream",
          "text": [
            "\n",
            "\n",
            "The median bluecars_taken_sum is : 46.0\n",
            "\n",
            "\n",
            "The median bluecars_returned_sum is : 46.0\n",
            "\n",
            "\n",
            "The median slots_freed_sum is : 0.0\n",
            "\n",
            "\n",
            "The median data_points is : 1440.0\n",
            "\n",
            "\n",
            "The median slots_taken_sum is : 0.0\n"
          ],
          "name": "stdout"
        }
      ]
    },
    {
      "cell_type": "markdown",
      "metadata": {
        "id": "_jtuz56NzqRh",
        "colab_type": "text"
      },
      "source": [
        "The median of a distribution with a discrete random variable depends on whether the number of terms in the distribution is even or odd"
      ]
    },
    {
      "cell_type": "markdown",
      "metadata": {
        "id": "0XdF2DCAsGEO",
        "colab_type": "text"
      },
      "source": [
        "Mode"
      ]
    },
    {
      "cell_type": "code",
      "metadata": {
        "id": "2fLfZmqWskgu",
        "colab_type": "code",
        "outputId": "892f169e-ce14-4721-8a68-1b36745a1477",
        "colab": {
          "base_uri": "https://localhost:8080/",
          "height": 362
        }
      },
      "source": [
        "cols = [ 'bluecars_taken_sum', 'bluecars_returned_sum','slots_freed_sum','data_points', \n",
        "       'slots_taken_sum']\n",
        "\n",
        "\n",
        "\n",
        "for column in cols:\n",
        "  print(\"\\n\")\n",
        "  print('The mode ' + column + ' is : ' + str(autolib[column].mode()))"
      ],
      "execution_count": 0,
      "outputs": [
        {
          "output_type": "stream",
          "text": [
            "\n",
            "\n",
            "The mode bluecars_taken_sum is : 0    12\n",
            "dtype: int64\n",
            "\n",
            "\n",
            "The mode bluecars_returned_sum is : 0    13\n",
            "dtype: int64\n",
            "\n",
            "\n",
            "The mode slots_freed_sum is : 0    0\n",
            "dtype: int64\n",
            "\n",
            "\n",
            "The mode data_points is : 0    1440\n",
            "dtype: int64\n",
            "\n",
            "\n",
            "The mode slots_taken_sum is : 0    0\n",
            "dtype: int64\n"
          ],
          "name": "stdout"
        }
      ]
    },
    {
      "cell_type": "markdown",
      "metadata": {
        "id": "KUwq6hKk0emL",
        "colab_type": "text"
      },
      "source": [
        "Mode is the most frequent or common score in the distribution, and is the point or value of Χ that corresponds to the highest point on the distribution"
      ]
    },
    {
      "cell_type": "markdown",
      "metadata": {
        "id": "bmXA44y00vuF",
        "colab_type": "text"
      },
      "source": [
        "**Measures of Spread**"
      ]
    },
    {
      "cell_type": "markdown",
      "metadata": {
        "id": "XJKafw_ts1T4",
        "colab_type": "text"
      },
      "source": [
        "Standard deviation\n",
        "provides insight into how much variation there is within a group of values. It measures the deviation (difference) from the group's mean (average)"
      ]
    },
    {
      "cell_type": "code",
      "metadata": {
        "id": "zzFbccoAs7TA",
        "colab_type": "code",
        "outputId": "a3b0122b-0ab4-47f2-9882-8dd1d27596e4",
        "colab": {
          "base_uri": "https://localhost:8080/",
          "height": 276
        }
      },
      "source": [
        "cols = [ 'bluecars_taken_sum', 'bluecars_returned_sum','slots_freed_sum','data_points', \n",
        "       'slots_taken_sum']\n",
        "\n",
        "\n",
        "\n",
        "for column in cols:\n",
        "  print(\"\\n\")\n",
        "  print('The standard deviation of ' + column + ' is : ' + str(autolib[column].std()))"
      ],
      "execution_count": 0,
      "outputs": [
        {
          "output_type": "stream",
          "text": [
            "\n",
            "\n",
            "The standard deviation of bluecars_taken_sum is : 185.42657876727893\n",
            "\n",
            "\n",
            "The standard deviation of bluecars_returned_sum is : 185.50153480148427\n",
            "\n",
            "\n",
            "The standard deviation of slots_freed_sum is : 52.12026333757879\n",
            "\n",
            "\n",
            "The standard deviation of data_points is : 33.21205013556443\n",
            "\n",
            "\n",
            "The standard deviation of slots_taken_sum is : 52.146029870452566\n"
          ],
          "name": "stdout"
        }
      ]
    },
    {
      "cell_type": "markdown",
      "metadata": {
        "id": "ycTeycgUtHId",
        "colab_type": "text"
      },
      "source": [
        "Variance"
      ]
    },
    {
      "cell_type": "code",
      "metadata": {
        "id": "v--6_lmstNuh",
        "colab_type": "code",
        "outputId": "1db32f0c-3007-4074-a20e-80958854fe3c",
        "colab": {
          "base_uri": "https://localhost:8080/",
          "height": 276
        }
      },
      "source": [
        "cols = [ 'bluecars_taken_sum', 'bluecars_returned_sum','slots_freed_sum','data_points', \n",
        "       'slots_taken_sum']\n",
        "\n",
        "\n",
        "\n",
        "for column in cols:\n",
        "  print(\"\\n\")\n",
        "  print('The variance ' + column + ' is : ' + str(autolib[column].var()))"
      ],
      "execution_count": 0,
      "outputs": [
        {
          "output_type": "stream",
          "text": [
            "\n",
            "\n",
            "The variance bluecars_taken_sum is : 34383.01611333789\n",
            "\n",
            "\n",
            "The variance bluecars_returned_sum is : 34410.819413706275\n",
            "\n",
            "\n",
            "The variance slots_freed_sum is : 2716.52185037856\n",
            "\n",
            "\n",
            "The variance data_points is : 1103.0402742072456\n",
            "\n",
            "\n",
            "The variance slots_taken_sum is : 2719.2084312501315\n"
          ],
          "name": "stdout"
        }
      ]
    },
    {
      "cell_type": "markdown",
      "metadata": {
        "id": "wfphoZIl1VTc",
        "colab_type": "text"
      },
      "source": [
        "The variance is a measure in squared units and has little meaning with respect to the data."
      ]
    },
    {
      "cell_type": "markdown",
      "metadata": {
        "id": "1wnAyaCp18PN",
        "colab_type": "text"
      },
      "source": [
        "**Measures of shape**\n",
        "For distributions summarizing data from continuous measurement scales, statistics can be used to describe how the distribution rises and drops.\n",
        "\n"
      ]
    },
    {
      "cell_type": "code",
      "metadata": {
        "id": "K3fIoYfdsE4z",
        "colab_type": "code",
        "outputId": "f91ce24d-1e6a-4de8-a910-a9767149c681",
        "colab": {
          "base_uri": "https://localhost:8080/",
          "height": 276
        }
      },
      "source": [
        "cols = [ 'bluecars_taken_sum', 'bluecars_returned_sum','slots_freed_sum','data_points', \n",
        "       'slots_taken_sum']\n",
        "\n",
        "\n",
        "\n",
        "for column in cols:\n",
        "  print(\"\\n\")\n",
        "  print('The skewness ' + column + ' is : ' + str(autolib[column].skew()))"
      ],
      "execution_count": 0,
      "outputs": [
        {
          "output_type": "stream",
          "text": [
            "\n",
            "\n",
            "The skewness bluecars_taken_sum is : 2.4063548974959086\n",
            "\n",
            "\n",
            "The skewness bluecars_returned_sum is : 2.412084978838923\n",
            "\n",
            "\n",
            "The skewness slots_freed_sum is : 2.5974057870090994\n",
            "\n",
            "\n",
            "The skewness data_points is : -5.742776211517434\n",
            "\n",
            "\n",
            "The skewness slots_taken_sum is : 2.5969043474634987\n"
          ],
          "name": "stdout"
        }
      ]
    },
    {
      "cell_type": "markdown",
      "metadata": {
        "id": "pjf19HZA_xxA",
        "colab_type": "text"
      },
      "source": [
        "**Bivariate Analysis**"
      ]
    },
    {
      "cell_type": "code",
      "metadata": {
        "id": "-s-j3-iP_-Ia",
        "colab_type": "code",
        "outputId": "abdf14e8-d4be-47d4-c720-ecec73e89d44",
        "colab": {
          "base_uri": "https://localhost:8080/",
          "height": 438
        }
      },
      "source": [
        "# convert categorical data to Numerical variables\n",
        "from sklearn.preprocessing import LabelEncoder\n",
        "en = LabelEncoder()\n",
        "autolib['data_points'] = en.fit_transform(autolib['data_points'])\n",
        "autolib['bluecars_taken_sum'] = en.fit_transform(autolib['bluecars_taken_sum'])\n",
        "autolib['bluecars_returned_sum'] = en.fit_transform(autolib['bluecars_returned_sum'])\n",
        "autolib['slots_freed_sum'] = en.fit_transform(autolib['slots_freed_sum'])\n",
        "autolib['slots_taken_sum'] = en.fit_transform(autolib['slots_taken_sum'])\n",
        "autolib"
      ],
      "execution_count": 0,
      "outputs": [
        {
          "output_type": "execute_result",
          "data": {
            "text/html": [
              "<div>\n",
              "<style scoped>\n",
              "    .dataframe tbody tr th:only-of-type {\n",
              "        vertical-align: middle;\n",
              "    }\n",
              "\n",
              "    .dataframe tbody tr th {\n",
              "        vertical-align: top;\n",
              "    }\n",
              "\n",
              "    .dataframe thead th {\n",
              "        text-align: right;\n",
              "    }\n",
              "</style>\n",
              "<table border=\"1\" class=\"dataframe\">\n",
              "  <thead>\n",
              "    <tr style=\"text-align: right;\">\n",
              "      <th></th>\n",
              "      <th>postal_code</th>\n",
              "      <th>date</th>\n",
              "      <th>data_points</th>\n",
              "      <th>day_of_week</th>\n",
              "      <th>day_type</th>\n",
              "      <th>bluecars_taken_sum</th>\n",
              "      <th>bluecars_returned_sum</th>\n",
              "      <th>slots_freed_sum</th>\n",
              "      <th>slots_taken_sum</th>\n",
              "    </tr>\n",
              "  </thead>\n",
              "  <tbody>\n",
              "    <tr>\n",
              "      <th>0</th>\n",
              "      <td>75001</td>\n",
              "      <td>1/1/2018</td>\n",
              "      <td>22</td>\n",
              "      <td>NaN</td>\n",
              "      <td>weekday</td>\n",
              "      <td>110</td>\n",
              "      <td>103</td>\n",
              "      <td>22</td>\n",
              "      <td>20</td>\n",
              "    </tr>\n",
              "    <tr>\n",
              "      <th>1</th>\n",
              "      <td>75001</td>\n",
              "      <td>1/2/2018</td>\n",
              "      <td>20</td>\n",
              "      <td>NaN</td>\n",
              "      <td>weekday</td>\n",
              "      <td>98</td>\n",
              "      <td>94</td>\n",
              "      <td>23</td>\n",
              "      <td>22</td>\n",
              "    </tr>\n",
              "    <tr>\n",
              "      <th>2</th>\n",
              "      <td>75001</td>\n",
              "      <td>1/3/2018</td>\n",
              "      <td>21</td>\n",
              "      <td>NaN</td>\n",
              "      <td>weekday</td>\n",
              "      <td>138</td>\n",
              "      <td>139</td>\n",
              "      <td>27</td>\n",
              "      <td>27</td>\n",
              "    </tr>\n",
              "    <tr>\n",
              "      <th>3</th>\n",
              "      <td>75001</td>\n",
              "      <td>1/4/2018</td>\n",
              "      <td>3</td>\n",
              "      <td>NaN</td>\n",
              "      <td>weekday</td>\n",
              "      <td>104</td>\n",
              "      <td>104</td>\n",
              "      <td>25</td>\n",
              "      <td>21</td>\n",
              "    </tr>\n",
              "    <tr>\n",
              "      <th>4</th>\n",
              "      <td>75001</td>\n",
              "      <td>1/5/2018</td>\n",
              "      <td>22</td>\n",
              "      <td>NaN</td>\n",
              "      <td>weekday</td>\n",
              "      <td>114</td>\n",
              "      <td>117</td>\n",
              "      <td>18</td>\n",
              "      <td>20</td>\n",
              "    </tr>\n",
              "    <tr>\n",
              "      <th>...</th>\n",
              "      <td>...</td>\n",
              "      <td>...</td>\n",
              "      <td>...</td>\n",
              "      <td>...</td>\n",
              "      <td>...</td>\n",
              "      <td>...</td>\n",
              "      <td>...</td>\n",
              "      <td>...</td>\n",
              "      <td>...</td>\n",
              "    </tr>\n",
              "    <tr>\n",
              "      <th>16080</th>\n",
              "      <td>95880</td>\n",
              "      <td>6/15/2018</td>\n",
              "      <td>22</td>\n",
              "      <td>NaN</td>\n",
              "      <td>weekday</td>\n",
              "      <td>15</td>\n",
              "      <td>10</td>\n",
              "      <td>0</td>\n",
              "      <td>0</td>\n",
              "    </tr>\n",
              "    <tr>\n",
              "      <th>16081</th>\n",
              "      <td>95880</td>\n",
              "      <td>6/16/2018</td>\n",
              "      <td>22</td>\n",
              "      <td>NaN</td>\n",
              "      <td>weekend</td>\n",
              "      <td>19</td>\n",
              "      <td>19</td>\n",
              "      <td>0</td>\n",
              "      <td>0</td>\n",
              "    </tr>\n",
              "    <tr>\n",
              "      <th>16082</th>\n",
              "      <td>95880</td>\n",
              "      <td>6/17/2018</td>\n",
              "      <td>22</td>\n",
              "      <td>NaN</td>\n",
              "      <td>weekend</td>\n",
              "      <td>33</td>\n",
              "      <td>35</td>\n",
              "      <td>0</td>\n",
              "      <td>0</td>\n",
              "    </tr>\n",
              "    <tr>\n",
              "      <th>16083</th>\n",
              "      <td>95880</td>\n",
              "      <td>6/18/2018</td>\n",
              "      <td>22</td>\n",
              "      <td>NaN</td>\n",
              "      <td>weekday</td>\n",
              "      <td>11</td>\n",
              "      <td>14</td>\n",
              "      <td>0</td>\n",
              "      <td>0</td>\n",
              "    </tr>\n",
              "    <tr>\n",
              "      <th>16084</th>\n",
              "      <td>95880</td>\n",
              "      <td>6/19/2018</td>\n",
              "      <td>5</td>\n",
              "      <td>NaN</td>\n",
              "      <td>weekday</td>\n",
              "      <td>2</td>\n",
              "      <td>2</td>\n",
              "      <td>0</td>\n",
              "      <td>0</td>\n",
              "    </tr>\n",
              "  </tbody>\n",
              "</table>\n",
              "<p>16085 rows × 9 columns</p>\n",
              "</div>"
            ],
            "text/plain": [
              "       postal_code       date  ...  slots_freed_sum slots_taken_sum\n",
              "0            75001   1/1/2018  ...               22              20\n",
              "1            75001   1/2/2018  ...               23              22\n",
              "2            75001   1/3/2018  ...               27              27\n",
              "3            75001   1/4/2018  ...               25              21\n",
              "4            75001   1/5/2018  ...               18              20\n",
              "...            ...        ...  ...              ...             ...\n",
              "16080        95880  6/15/2018  ...                0               0\n",
              "16081        95880  6/16/2018  ...                0               0\n",
              "16082        95880  6/17/2018  ...                0               0\n",
              "16083        95880  6/18/2018  ...                0               0\n",
              "16084        95880  6/19/2018  ...                0               0\n",
              "\n",
              "[16085 rows x 9 columns]"
            ]
          },
          "metadata": {
            "tags": []
          },
          "execution_count": 112
        }
      ]
    },
    {
      "cell_type": "code",
      "metadata": {
        "id": "xy6auq2vcg1l",
        "colab_type": "code",
        "outputId": "b5511568-4849-409e-9ed4-266f050a5d87",
        "colab": {
          "base_uri": "https://localhost:8080/",
          "height": 296
        }
      },
      "source": [
        "# Describing our numeric variables\n",
        "numeric_col = ['bluecars_taken_sum', 'data_points', 'slots_taken_sum']\n",
        "autolib[numeric_col].describe()"
      ],
      "execution_count": 0,
      "outputs": [
        {
          "output_type": "execute_result",
          "data": {
            "text/html": [
              "<div>\n",
              "<style scoped>\n",
              "    .dataframe tbody tr th:only-of-type {\n",
              "        vertical-align: middle;\n",
              "    }\n",
              "\n",
              "    .dataframe tbody tr th {\n",
              "        vertical-align: top;\n",
              "    }\n",
              "\n",
              "    .dataframe thead th {\n",
              "        text-align: right;\n",
              "    }\n",
              "</style>\n",
              "<table border=\"1\" class=\"dataframe\">\n",
              "  <thead>\n",
              "    <tr style=\"text-align: right;\">\n",
              "      <th></th>\n",
              "      <th>bluecars_taken_sum</th>\n",
              "      <th>data_points</th>\n",
              "      <th>slots_taken_sum</th>\n",
              "    </tr>\n",
              "  </thead>\n",
              "  <tbody>\n",
              "    <tr>\n",
              "      <th>count</th>\n",
              "      <td>16085.000000</td>\n",
              "      <td>16085.000000</td>\n",
              "      <td>16085.000000</td>\n",
              "    </tr>\n",
              "    <tr>\n",
              "      <th>mean</th>\n",
              "      <td>124.149829</td>\n",
              "      <td>19.947653</td>\n",
              "      <td>22.571091</td>\n",
              "    </tr>\n",
              "    <tr>\n",
              "      <th>std</th>\n",
              "      <td>178.061006</td>\n",
              "      <td>4.656157</td>\n",
              "      <td>51.840756</td>\n",
              "    </tr>\n",
              "    <tr>\n",
              "      <th>min</th>\n",
              "      <td>0.000000</td>\n",
              "      <td>0.000000</td>\n",
              "      <td>0.000000</td>\n",
              "    </tr>\n",
              "    <tr>\n",
              "      <th>25%</th>\n",
              "      <td>20.000000</td>\n",
              "      <td>21.000000</td>\n",
              "      <td>0.000000</td>\n",
              "    </tr>\n",
              "    <tr>\n",
              "      <th>50%</th>\n",
              "      <td>46.000000</td>\n",
              "      <td>22.000000</td>\n",
              "      <td>0.000000</td>\n",
              "    </tr>\n",
              "    <tr>\n",
              "      <th>75%</th>\n",
              "      <td>135.000000</td>\n",
              "      <td>22.000000</td>\n",
              "      <td>5.000000</td>\n",
              "    </tr>\n",
              "    <tr>\n",
              "      <th>max</th>\n",
              "      <td>931.000000</td>\n",
              "      <td>22.000000</td>\n",
              "      <td>300.000000</td>\n",
              "    </tr>\n",
              "  </tbody>\n",
              "</table>\n",
              "</div>"
            ],
            "text/plain": [
              "       bluecars_taken_sum   data_points  slots_taken_sum\n",
              "count        16085.000000  16085.000000     16085.000000\n",
              "mean           124.149829     19.947653        22.571091\n",
              "std            178.061006      4.656157        51.840756\n",
              "min              0.000000      0.000000         0.000000\n",
              "25%             20.000000     21.000000         0.000000\n",
              "50%             46.000000     22.000000         0.000000\n",
              "75%            135.000000     22.000000         5.000000\n",
              "max            931.000000     22.000000       300.000000"
            ]
          },
          "metadata": {
            "tags": []
          },
          "execution_count": 141
        }
      ]
    },
    {
      "cell_type": "code",
      "metadata": {
        "id": "gPq_JFCKIwiw",
        "colab_type": "code",
        "outputId": "9b0b5ffc-df83-433a-a239-3a46b1afef59",
        "colab": {
          "base_uri": "https://localhost:8080/",
          "height": 584
        }
      },
      "source": [
        "sns.pairplot(autolib[numeric_col])"
      ],
      "execution_count": 0,
      "outputs": [
        {
          "output_type": "execute_result",
          "data": {
            "text/plain": [
              "<seaborn.axisgrid.PairGrid at 0x7fcd613b4080>"
            ]
          },
          "metadata": {
            "tags": []
          },
          "execution_count": 142
        },
        {
          "output_type": "display_data",
          "data": {
            "image/png": "[encoded data removed]",
            "text/plain": [
              "<Figure size 540x540 with 12 Axes>"
            ]
          },
          "metadata": {
            "tags": []
          }
        }
      ]
    },
    {
      "cell_type": "code",
      "metadata": {
        "id": "wgBaRXsEKbL4",
        "colab_type": "code",
        "outputId": "a85e3036-6136-4f17-cf8f-b533673a2eff",
        "colab": {
          "base_uri": "https://localhost:8080/",
          "height": 720
        }
      },
      "source": [
        "# plotting heatmap to show how our numeric variables correlate\n",
        "fig, ax = plt.subplots(figsize = (10,10))\n",
        "sns.heatmap(autolib.corr(), annot= True, linewidths= .5, ax=ax)\n"
      ],
      "execution_count": 0,
      "outputs": [
        {
          "output_type": "execute_result",
          "data": {
            "text/plain": [
              "<matplotlib.axes._subplots.AxesSubplot at 0x7fcd62398eb8>"
            ]
          },
          "metadata": {
            "tags": []
          },
          "execution_count": 117
        },
        {
          "output_type": "display_data",
          "data": {
            "image/png": "[encoded data removed]",
            "text/plain": [
              "<Figure size 720x720 with 2 Axes>"
            ]
          },
          "metadata": {
            "tags": []
          }
        }
      ]
    },
    {
      "cell_type": "code",
      "metadata": {
        "id": "cKIUKJEBMnHC",
        "colab_type": "code",
        "outputId": "c3eb6bf6-c531-4a72-b7dd-78b7f9ca7e68",
        "colab": {
          "base_uri": "https://localhost:8080/",
          "height": 34
        }
      },
      "source": [
        "#calculating the correlations of the bluecars taken and the slot_ taken sum\n",
        "pearson_coeff = autolib[\"bluecars_taken_sum\"].corr(autolib[\"slots_taken_sum\"], method=\"pearson\")\n",
        "print(f\"Correlation between blue cars taken and slots taken sum is {pearson_coeff}\")"
      ],
      "execution_count": 0,
      "outputs": [
        {
          "output_type": "stream",
          "text": [
            "Correlation between blue cars taken and slots taken sum is 0.9460742838193665\n"
          ],
          "name": "stdout"
        }
      ]
    },
    {
      "cell_type": "code",
      "metadata": {
        "id": "uytPScfCPwOL",
        "colab_type": "code",
        "outputId": "10974a47-d69f-4ce3-f14c-10389107dd55",
        "colab": {
          "base_uri": "https://localhost:8080/",
          "height": 307
        }
      },
      "source": [
        "# Specifying the chart size\n",
        "\n",
        "plt.figure(dpi = 75)\n",
        "\n",
        "# plotting our scatterplot using matplotlib\n",
        "plt.scatter(autolib['bluecars_taken_sum'], autolib['bluecars_returned_sum'])\n",
        "\n",
        "# Giving the scatterplot a title\n",
        "plt.title('A scatter plot of Bluecars returned vs taken', color = 'black')\n",
        "\n",
        "# Labelling the x axis\n",
        "plt.xlabel('bluecars_taken_sum')\n",
        "\n",
        "# Labelling the y axis\n",
        "plt.ylabel('bluecars_returned_sum')\n",
        "\n",
        "# We then display our scatterplot \n",
        "plt.show()"
      ],
      "execution_count": 0,
      "outputs": [
        {
          "output_type": "display_data",
          "data": {
            "image/png": "[encoded data removed]",
            "text/plain": [
              "<Figure size 450x300 with 1 Axes>"
            ]
          },
          "metadata": {
            "tags": []
          }
        }
      ]
    },
    {
      "cell_type": "markdown",
      "metadata": {
        "id": "teWef8hDQHev",
        "colab_type": "text"
      },
      "source": [
        "The scatter plot shows that there is positive correlation. An increase in bluecars returned increases the rate at which bluecars are taken from the different postal stations."
      ]
    },
    {
      "cell_type": "markdown",
      "metadata": {
        "id": "Y7Ku3H9JQGF4",
        "colab_type": "text"
      },
      "source": [
        "#Simple Random sampling\n"
      ]
    },
    {
      "cell_type": "code",
      "metadata": {
        "id": "p4sS6EkSSdSj",
        "colab_type": "code",
        "outputId": "65cf358c-dd9d-4e6d-ca28-b03666228050",
        "colab": {
          "base_uri": "https://localhost:8080/",
          "height": 68
        }
      },
      "source": [
        "#This is a sample is a subset of individuals chosen from a larger set.\n",
        "#Each individual is chosen randomly and entirely by chance, \n",
        "# creating a new dataframe containing our simple random sample \n",
        "# Let us make our sample size = 5000\n",
        "# The sample will be selected without replacement\n",
        "\n",
        "#Original data shape\n",
        "print(autolib.shape)\n",
        "print('****************')\n",
        "sample_data = autolib.sample(n = 5000, replace = 'False')\n",
        "#New sample data shape\n",
        "print(sample_data.shape)"
      ],
      "execution_count": 0,
      "outputs": [
        {
          "output_type": "stream",
          "text": [
            "(16085, 9)\n",
            "****************\n",
            "(5000, 9)\n"
          ],
          "name": "stdout"
        }
      ]
    },
    {
      "cell_type": "markdown",
      "metadata": {
        "id": "tj0XT5z84AXa",
        "colab_type": "text"
      },
      "source": [
        "**A hypothesis** is an assumption about an unknown fact.\n",
        "\n",
        "**Null hypothesis.**\n",
        "The null hypothesis, denoted by Ho, is usually the hypothesis that sample observations result purely from chance.\n",
        "\n",
        "**Alternative hypothesis**.\n",
        "\n",
        "The alternative hypothesis, denoted by H1 or Ha, is the hypothesis that sample observations are influenced by some non-random cause.\n",
        "\n",
        "**The P-value **\n",
        "\n",
        "The probability of observing a test statistic as extreme as S, assuming the null hypothesis is true. If the P-value is less than the significance level, we reject the null hypothesis."
      ]
    },
    {
      "cell_type": "markdown",
      "metadata": {
        "id": "E_2_ftNnRF_a",
        "colab_type": "text"
      },
      "source": [
        "**Hypothesis Testing**"
      ]
    },
    {
      "cell_type": "code",
      "metadata": {
        "id": "s6JQfJtbRkmo",
        "colab_type": "code",
        "outputId": "d79669be-5722-47cf-98d9-89f0de53b665",
        "colab": {
          "base_uri": "https://localhost:8080/",
          "height": 130
        }
      },
      "source": [
        "\n",
        "hypothesis_sample = sample_data.sample(n = 2, replace = False)\n",
        "hypothesis_sample"
      ],
      "execution_count": 0,
      "outputs": [
        {
          "output_type": "execute_result",
          "data": {
            "text/html": [
              "<div>\n",
              "<style scoped>\n",
              "    .dataframe tbody tr th:only-of-type {\n",
              "        vertical-align: middle;\n",
              "    }\n",
              "\n",
              "    .dataframe tbody tr th {\n",
              "        vertical-align: top;\n",
              "    }\n",
              "\n",
              "    .dataframe thead th {\n",
              "        text-align: right;\n",
              "    }\n",
              "</style>\n",
              "<table border=\"1\" class=\"dataframe\">\n",
              "  <thead>\n",
              "    <tr style=\"text-align: right;\">\n",
              "      <th></th>\n",
              "      <th>postal_code</th>\n",
              "      <th>date</th>\n",
              "      <th>data_points</th>\n",
              "      <th>day_of_week</th>\n",
              "      <th>day_type</th>\n",
              "      <th>bluecars_taken_sum</th>\n",
              "      <th>bluecars_returned_sum</th>\n",
              "      <th>slots_freed_sum</th>\n",
              "      <th>slots_taken_sum</th>\n",
              "    </tr>\n",
              "  </thead>\n",
              "  <tbody>\n",
              "    <tr>\n",
              "      <th>3020</th>\n",
              "      <td>75020</td>\n",
              "      <td>3/1/2018</td>\n",
              "      <td>8</td>\n",
              "      <td>NaN</td>\n",
              "      <td>weekday</td>\n",
              "      <td>421</td>\n",
              "      <td>421</td>\n",
              "      <td>115</td>\n",
              "      <td>112</td>\n",
              "    </tr>\n",
              "    <tr>\n",
              "      <th>14654</th>\n",
              "      <td>94300</td>\n",
              "      <td>5/23/2018</td>\n",
              "      <td>0</td>\n",
              "      <td>NaN</td>\n",
              "      <td>weekday</td>\n",
              "      <td>59</td>\n",
              "      <td>56</td>\n",
              "      <td>0</td>\n",
              "      <td>0</td>\n",
              "    </tr>\n",
              "  </tbody>\n",
              "</table>\n",
              "</div>"
            ],
            "text/plain": [
              "       postal_code       date  ...  slots_freed_sum slots_taken_sum\n",
              "3020         75020   3/1/2018  ...              115             112\n",
              "14654        94300  5/23/2018  ...                0               0\n",
              "\n",
              "[2 rows x 9 columns]"
            ]
          },
          "metadata": {
            "tags": []
          },
          "execution_count": 129
        }
      ]
    },
    {
      "cell_type": "code",
      "metadata": {
        "id": "p0b01z6RQOPa",
        "colab_type": "code",
        "colab": {}
      },
      "source": [
        "Ho = The postal code chosen represents that there is no difference in the means of blue cars taken in postal code  75020 and 94300 \n",
        "\n",
        "H1 != The postal code chosen represents that there is a difference in the means of blue cars taken in postal code 75020 and 94300 .\n",
        "\n",
        "First, create a dataframe with postal code 75020 and 94300"
      ],
      "execution_count": 0,
      "outputs": []
    },
    {
      "cell_type": "code",
      "metadata": {
        "id": "BMRTmAiMYV1b",
        "colab_type": "code",
        "outputId": "5bcf3ffc-a9d7-4f2e-fc48-151b652c94c3",
        "colab": {
          "base_uri": "https://localhost:8080/",
          "height": 223
        }
      },
      "source": [
        "df = sample_data[sample_data['postal_code'] == 75020]\n",
        "df.head()"
      ],
      "execution_count": 0,
      "outputs": [
        {
          "output_type": "execute_result",
          "data": {
            "text/html": [
              "<div>\n",
              "<style scoped>\n",
              "    .dataframe tbody tr th:only-of-type {\n",
              "        vertical-align: middle;\n",
              "    }\n",
              "\n",
              "    .dataframe tbody tr th {\n",
              "        vertical-align: top;\n",
              "    }\n",
              "\n",
              "    .dataframe thead th {\n",
              "        text-align: right;\n",
              "    }\n",
              "</style>\n",
              "<table border=\"1\" class=\"dataframe\">\n",
              "  <thead>\n",
              "    <tr style=\"text-align: right;\">\n",
              "      <th></th>\n",
              "      <th>postal_code</th>\n",
              "      <th>date</th>\n",
              "      <th>data_points</th>\n",
              "      <th>day_of_week</th>\n",
              "      <th>day_type</th>\n",
              "      <th>bluecars_taken_sum</th>\n",
              "      <th>bluecars_returned_sum</th>\n",
              "      <th>slots_freed_sum</th>\n",
              "      <th>slots_taken_sum</th>\n",
              "    </tr>\n",
              "  </thead>\n",
              "  <tbody>\n",
              "    <tr>\n",
              "      <th>3106</th>\n",
              "      <td>75020</td>\n",
              "      <td>6/6/2018</td>\n",
              "      <td>22</td>\n",
              "      <td>NaN</td>\n",
              "      <td>weekday</td>\n",
              "      <td>443</td>\n",
              "      <td>445</td>\n",
              "      <td>156</td>\n",
              "      <td>151</td>\n",
              "    </tr>\n",
              "    <tr>\n",
              "      <th>2973</th>\n",
              "      <td>75020</td>\n",
              "      <td>1/10/2018</td>\n",
              "      <td>22</td>\n",
              "      <td>NaN</td>\n",
              "      <td>weekday</td>\n",
              "      <td>436</td>\n",
              "      <td>412</td>\n",
              "      <td>111</td>\n",
              "      <td>106</td>\n",
              "    </tr>\n",
              "    <tr>\n",
              "      <th>3050</th>\n",
              "      <td>75020</td>\n",
              "      <td>3/31/2018</td>\n",
              "      <td>22</td>\n",
              "      <td>NaN</td>\n",
              "      <td>weekend</td>\n",
              "      <td>559</td>\n",
              "      <td>551</td>\n",
              "      <td>150</td>\n",
              "      <td>144</td>\n",
              "    </tr>\n",
              "    <tr>\n",
              "      <th>3058</th>\n",
              "      <td>75020</td>\n",
              "      <td>4/8/2018</td>\n",
              "      <td>22</td>\n",
              "      <td>NaN</td>\n",
              "      <td>weekend</td>\n",
              "      <td>592</td>\n",
              "      <td>635</td>\n",
              "      <td>211</td>\n",
              "      <td>213</td>\n",
              "    </tr>\n",
              "    <tr>\n",
              "      <th>3101</th>\n",
              "      <td>75020</td>\n",
              "      <td>6/1/2018</td>\n",
              "      <td>22</td>\n",
              "      <td>NaN</td>\n",
              "      <td>weekday</td>\n",
              "      <td>513</td>\n",
              "      <td>482</td>\n",
              "      <td>153</td>\n",
              "      <td>154</td>\n",
              "    </tr>\n",
              "  </tbody>\n",
              "</table>\n",
              "</div>"
            ],
            "text/plain": [
              "      postal_code       date  ...  slots_freed_sum slots_taken_sum\n",
              "3106        75020   6/6/2018  ...              156             151\n",
              "2973        75020  1/10/2018  ...              111             106\n",
              "3050        75020  3/31/2018  ...              150             144\n",
              "3058        75020   4/8/2018  ...              211             213\n",
              "3101        75020   6/1/2018  ...              153             154\n",
              "\n",
              "[5 rows x 9 columns]"
            ]
          },
          "metadata": {
            "tags": []
          },
          "execution_count": 130
        }
      ]
    },
    {
      "cell_type": "code",
      "metadata": {
        "id": "yQfgzixKYpPC",
        "colab_type": "code",
        "outputId": "352da245-8d52-4603-dab9-b03451d3732b",
        "colab": {
          "base_uri": "https://localhost:8080/",
          "height": 223
        }
      },
      "source": [
        "df1 = sample_data[sample_data['postal_code'] == 94300]\n",
        "df1.head()"
      ],
      "execution_count": 0,
      "outputs": [
        {
          "output_type": "execute_result",
          "data": {
            "text/html": [
              "<div>\n",
              "<style scoped>\n",
              "    .dataframe tbody tr th:only-of-type {\n",
              "        vertical-align: middle;\n",
              "    }\n",
              "\n",
              "    .dataframe tbody tr th {\n",
              "        vertical-align: top;\n",
              "    }\n",
              "\n",
              "    .dataframe thead th {\n",
              "        text-align: right;\n",
              "    }\n",
              "</style>\n",
              "<table border=\"1\" class=\"dataframe\">\n",
              "  <thead>\n",
              "    <tr style=\"text-align: right;\">\n",
              "      <th></th>\n",
              "      <th>postal_code</th>\n",
              "      <th>date</th>\n",
              "      <th>data_points</th>\n",
              "      <th>day_of_week</th>\n",
              "      <th>day_type</th>\n",
              "      <th>bluecars_taken_sum</th>\n",
              "      <th>bluecars_returned_sum</th>\n",
              "      <th>slots_freed_sum</th>\n",
              "      <th>slots_taken_sum</th>\n",
              "    </tr>\n",
              "  </thead>\n",
              "  <tbody>\n",
              "    <tr>\n",
              "      <th>14586</th>\n",
              "      <td>94300</td>\n",
              "      <td>3/5/2018</td>\n",
              "      <td>22</td>\n",
              "      <td>NaN</td>\n",
              "      <td>weekday</td>\n",
              "      <td>54</td>\n",
              "      <td>60</td>\n",
              "      <td>0</td>\n",
              "      <td>0</td>\n",
              "    </tr>\n",
              "    <tr>\n",
              "      <th>14548</th>\n",
              "      <td>94300</td>\n",
              "      <td>1/23/2018</td>\n",
              "      <td>21</td>\n",
              "      <td>NaN</td>\n",
              "      <td>weekday</td>\n",
              "      <td>44</td>\n",
              "      <td>42</td>\n",
              "      <td>0</td>\n",
              "      <td>0</td>\n",
              "    </tr>\n",
              "    <tr>\n",
              "      <th>14576</th>\n",
              "      <td>94300</td>\n",
              "      <td>2/20/2018</td>\n",
              "      <td>14</td>\n",
              "      <td>NaN</td>\n",
              "      <td>weekday</td>\n",
              "      <td>36</td>\n",
              "      <td>39</td>\n",
              "      <td>0</td>\n",
              "      <td>0</td>\n",
              "    </tr>\n",
              "    <tr>\n",
              "      <th>14611</th>\n",
              "      <td>94300</td>\n",
              "      <td>3/30/2018</td>\n",
              "      <td>16</td>\n",
              "      <td>NaN</td>\n",
              "      <td>weekday</td>\n",
              "      <td>42</td>\n",
              "      <td>51</td>\n",
              "      <td>0</td>\n",
              "      <td>0</td>\n",
              "    </tr>\n",
              "    <tr>\n",
              "      <th>14664</th>\n",
              "      <td>94300</td>\n",
              "      <td>6/2/2018</td>\n",
              "      <td>22</td>\n",
              "      <td>NaN</td>\n",
              "      <td>weekend</td>\n",
              "      <td>150</td>\n",
              "      <td>146</td>\n",
              "      <td>0</td>\n",
              "      <td>0</td>\n",
              "    </tr>\n",
              "  </tbody>\n",
              "</table>\n",
              "</div>"
            ],
            "text/plain": [
              "       postal_code       date  ...  slots_freed_sum slots_taken_sum\n",
              "14586        94300   3/5/2018  ...                0               0\n",
              "14548        94300  1/23/2018  ...                0               0\n",
              "14576        94300  2/20/2018  ...                0               0\n",
              "14611        94300  3/30/2018  ...                0               0\n",
              "14664        94300   6/2/2018  ...                0               0\n",
              "\n",
              "[5 rows x 9 columns]"
            ]
          },
          "metadata": {
            "tags": []
          },
          "execution_count": 131
        }
      ]
    },
    {
      "cell_type": "code",
      "metadata": {
        "id": "w2BLOSn_ZNKb",
        "colab_type": "code",
        "outputId": "245ab7d1-0eb7-41fe-ab01-69b763af4da4",
        "colab": {
          "base_uri": "https://localhost:8080/",
          "height": 51
        }
      },
      "source": [
        "#Calculate z-test\n",
        "# Assume level of significance = 0.5\n",
        "\n",
        "# Calculating the test statistic\n",
        "\n",
        "ztest , pval1 = stests.ztest(x1 = df['bluecars_taken_sum'], x2 = df1['bluecars_taken_sum'], value=0, alternative='two-sided')\n",
        "\n",
        "print(float(pval1))\n",
        "\n",
        "if pval1 < 0.05:\n",
        "    print(\"Failed to accept null hypothesis\")\n",
        "else:\n",
        "    print(\"Failed to reject null hypothesis\")"
      ],
      "execution_count": 0,
      "outputs": [
        {
          "output_type": "stream",
          "text": [
            "1.0105299905038005e-106\n",
            "Failed to accept null hypothesis\n"
          ],
          "name": "stdout"
        }
      ]
    },
    {
      "cell_type": "markdown",
      "metadata": {
        "id": "fcO_-qbua2lU",
        "colab_type": "text"
      },
      "source": [
        "\n",
        "# **Summary and Conclusions**\n",
        "According to our hypothesis test on the p-value is 1.01529. A p-value higher than 0.05 (> 0.05) is not statistically significant and indicates weak evidence against the null hypothesis.\n",
        "\n",
        "Therefore, we fail to accept the null hypothesis."
      ]
    }
  ]
}